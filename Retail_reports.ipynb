{
 "cells": [
  {
   "cell_type": "markdown",
   "metadata": {},
   "source": [
    "## Looking at Jefferson County's retail sales since 2015\n"
   ]
  },
  {
   "cell_type": "code",
   "execution_count": 1,
   "metadata": {},
   "outputs": [],
   "source": [
    "import pandas as pd\n",
    "import matplotlib.pyplot as plt\n",
    "%matplotlib inline\n",
    "\n",
    "report = pd.read_csv('Retail_Reports_by_County_in_Colorado.csv')\n",
    "\n",
    "jeffco = (report[report['county'] == 'Jefferson'].dropna(axis='columns'))"
   ]
  },
  {
   "cell_type": "code",
   "execution_count": 2,
   "metadata": {
    "scrolled": true
   },
   "outputs": [
    {
     "data": {
      "text/html": [
       "<div>\n",
       "<style scoped>\n",
       "    .dataframe tbody tr th:only-of-type {\n",
       "        vertical-align: middle;\n",
       "    }\n",
       "\n",
       "    .dataframe tbody tr th {\n",
       "        vertical-align: top;\n",
       "    }\n",
       "\n",
       "    .dataframe thead th {\n",
       "        text-align: right;\n",
       "    }\n",
       "</style>\n",
       "<table border=\"1\" class=\"dataframe\">\n",
       "  <thead>\n",
       "    <tr style=\"text-align: right;\">\n",
       "      <th></th>\n",
       "      <th>month</th>\n",
       "      <th>year</th>\n",
       "      <th>county</th>\n",
       "      <th>num_returns</th>\n",
       "      <th>gross_sales</th>\n",
       "      <th>retail_sales</th>\n",
       "      <th>state_net_taxable_sales</th>\n",
       "    </tr>\n",
       "  </thead>\n",
       "  <tbody>\n",
       "    <tr>\n",
       "      <th>1</th>\n",
       "      <td>6</td>\n",
       "      <td>2019</td>\n",
       "      <td>Jefferson</td>\n",
       "      <td>37294</td>\n",
       "      <td>2.245013e+09</td>\n",
       "      <td>1.733934e+09</td>\n",
       "      <td>853715000.0</td>\n",
       "    </tr>\n",
       "    <tr>\n",
       "      <th>137</th>\n",
       "      <td>5</td>\n",
       "      <td>2019</td>\n",
       "      <td>Jefferson</td>\n",
       "      <td>28005</td>\n",
       "      <td>1.948302e+09</td>\n",
       "      <td>1.648186e+09</td>\n",
       "      <td>803087000.0</td>\n",
       "    </tr>\n",
       "    <tr>\n",
       "      <th>138</th>\n",
       "      <td>8</td>\n",
       "      <td>2019</td>\n",
       "      <td>Jefferson</td>\n",
       "      <td>34330</td>\n",
       "      <td>2.108765e+09</td>\n",
       "      <td>1.766135e+09</td>\n",
       "      <td>850444000.0</td>\n",
       "    </tr>\n",
       "    <tr>\n",
       "      <th>192</th>\n",
       "      <td>10</td>\n",
       "      <td>2020</td>\n",
       "      <td>Jefferson</td>\n",
       "      <td>40795</td>\n",
       "      <td>2.148189e+09</td>\n",
       "      <td>1.831933e+09</td>\n",
       "      <td>890603000.0</td>\n",
       "    </tr>\n",
       "    <tr>\n",
       "      <th>219</th>\n",
       "      <td>1</td>\n",
       "      <td>2019</td>\n",
       "      <td>Jefferson</td>\n",
       "      <td>20457</td>\n",
       "      <td>1.680768e+09</td>\n",
       "      <td>1.442886e+09</td>\n",
       "      <td>643915000.0</td>\n",
       "    </tr>\n",
       "  </tbody>\n",
       "</table>\n",
       "</div>"
      ],
      "text/plain": [
       "     month  year     county  num_returns   gross_sales  retail_sales  \\\n",
       "1        6  2019  Jefferson        37294  2.245013e+09  1.733934e+09   \n",
       "137      5  2019  Jefferson        28005  1.948302e+09  1.648186e+09   \n",
       "138      8  2019  Jefferson        34330  2.108765e+09  1.766135e+09   \n",
       "192     10  2020  Jefferson        40795  2.148189e+09  1.831933e+09   \n",
       "219      1  2019  Jefferson        20457  1.680768e+09  1.442886e+09   \n",
       "\n",
       "     state_net_taxable_sales  \n",
       "1                853715000.0  \n",
       "137              803087000.0  \n",
       "138              850444000.0  \n",
       "192              890603000.0  \n",
       "219              643915000.0  "
      ]
     },
     "execution_count": 2,
     "metadata": {},
     "output_type": "execute_result"
    }
   ],
   "source": [
    "jeffco.head()"
   ]
  },
  {
   "cell_type": "markdown",
   "metadata": {},
   "source": [
    "after reading in the CSV containing information on all retail revenue in the state, I decided to focus on Jefferson County so I wouldn't get overwhelmed.  The dataset only has partial information for 2021 so I decided to make a stacked bar graph to help the reader get an idea of what the 2021 total retail sales would look like."
   ]
  },
  {
   "cell_type": "code",
   "execution_count": 3,
   "metadata": {},
   "outputs": [
    {
     "data": {
      "text/plain": [
       "array([2019, 2020, 2018, 2015, 2017, 2016, 2021])"
      ]
     },
     "execution_count": 3,
     "metadata": {},
     "output_type": "execute_result"
    }
   ],
   "source": [
    "jeffco['year'].unique()"
   ]
  },
  {
   "cell_type": "markdown",
   "metadata": {},
   "source": [
    "The first step was to isolate the retail sales colum for every year."
   ]
  },
  {
   "cell_type": "code",
   "execution_count": 13,
   "metadata": {},
   "outputs": [],
   "source": [
    "sales_2015_full = jeffco.loc[((jeffco['year'] == 2015)), ['retail_sales']]"
   ]
  },
  {
   "cell_type": "markdown",
   "metadata": {},
   "source": [
    "Since the 2021 data only had until August, I found the January-August sales information for all of the years."
   ]
  },
  {
   "cell_type": "code",
   "execution_count": 4,
   "metadata": {},
   "outputs": [],
   "source": [
    "jeffco_2015 = jeffco.loc[((jeffco['year'] == 2015) & (jeffco['month'] < 9)), ['retail_sales']]\n",
    "jeffco_2016 = jeffco.loc[((jeffco['year'] == 2016) & (jeffco['month'] < 9)), ['retail_sales']]\n",
    "jeffco_2017 = jeffco.loc[((jeffco['year'] == 2017) & (jeffco['month'] < 9)), ['retail_sales']]\n",
    "jeffco_2018 = jeffco.loc[((jeffco['year'] == 2018) & (jeffco['month'] < 9)), ['retail_sales']]\n",
    "jeffco_2019 = jeffco.loc[((jeffco['year'] == 2019) & (jeffco['month'] < 9)), ['retail_sales']]\n",
    "jeffco_2020 = jeffco.loc[((jeffco['year'] == 2020) & (jeffco['month'] < 9)), ['retail_sales']]\n",
    "jeffco_2021 = jeffco.loc[((jeffco['year'] == 2021) & (jeffco['month'] < 9)), ['retail_sales']]\n"
   ]
  },
  {
   "cell_type": "markdown",
   "metadata": {},
   "source": [
    "in 2015, the retail sales data was reported differently.  Instead of the values being to the exact dollar, the data was rounded to the thousands and the three zeros were cut off from the number.  So I needed to adjust that column to match the other columns"
   ]
  },
  {
   "cell_type": "code",
   "execution_count": 6,
   "metadata": {
    "scrolled": false
   },
   "outputs": [],
   "source": [
    "sales_2015_full = jeffco.loc[((jeffco['year'] == 2015)), ['retail_sales']]\n",
    "sales_list = sales_2015_full['retail_sales']\n",
    "new_2015_sales = []\n",
    "for item in sales_list:\n",
    "    new_2015_sales.append(item*1000)\n",
    "\n",
    "jeffco.loc[jeffco['year'] == 2015, 'retail_sales'] = new_2015_sales"
   ]
  },
  {
   "cell_type": "markdown",
   "metadata": {},
   "source": [
    "The code below adds up the total retail sales by year so I can graph it"
   ]
  },
  {
   "cell_type": "code",
   "execution_count": 7,
   "metadata": {},
   "outputs": [],
   "source": [
    "by_year = jeffco.groupby('year').sum()\n",
    "annual_retail_sales = by_year['retail_sales']"
   ]
  },
  {
   "cell_type": "markdown",
   "metadata": {},
   "source": [
    "Then I needed to make a list of the January-August retail sales numbers (I needed to adjust the 2015 value again)"
   ]
  },
  {
   "cell_type": "code",
   "execution_count": 8,
   "metadata": {},
   "outputs": [],
   "source": [
    "jan_thru_aug = [round(jeffco_2015['retail_sales'].sum()*1000, -3), jeffco_2016['retail_sales'].sum(), jeffco_2017['retail_sales'].sum(),\n",
    "                jeffco_2018['retail_sales'].sum(), jeffco_2019['retail_sales'].sum(), jeffco_2020['retail_sales'].sum(),\n",
    "                round(jeffco_2021['retail_sales'].sum(), -3)]\n",
    "years = ['2015', '2016', '2017', '2018', '2019', '2020', '2021']"
   ]
  },
  {
   "cell_type": "code",
   "execution_count": 9,
   "metadata": {},
   "outputs": [
    {
     "data": {
      "text/plain": [
       "[10984609000.0,\n",
       " 10899170000.0,\n",
       " 11349655000.0,\n",
       " 11695989000.0,\n",
       " 13274633000.0,\n",
       " 15015906000.0,\n",
       " 16044702000.0]"
      ]
     },
     "execution_count": 9,
     "metadata": {},
     "output_type": "execute_result"
    }
   ],
   "source": [
    "jan_thru_aug"
   ]
  },
  {
   "cell_type": "code",
   "execution_count": 10,
   "metadata": {
    "scrolled": false
   },
   "outputs": [
    {
     "data": {
      "text/plain": [
       "<matplotlib.axes._subplots.AxesSubplot at 0x7ff361defc70>"
      ]
     },
     "execution_count": 10,
     "metadata": {},
     "output_type": "execute_result"
    },
    {
     "data": {
      "image/png": "[encoded data removed]",
      "text/plain": [
       "<Figure size 600x400 with 1 Axes>"
      ]
     },
     "metadata": {},
     "output_type": "display_data"
    }
   ],
   "source": [
    "annual_retail_sales.plot.bar()"
   ]
  },
  {
   "cell_type": "code",
   "execution_count": 11,
   "metadata": {},
   "outputs": [
    {
     "data": {
      "text/plain": [
       "<BarContainer object of 7 artists>"
      ]
     },
     "execution_count": 11,
     "metadata": {},
     "output_type": "execute_result"
    },
    {
     "data": {
      "image/png": "[encoded data removed]",
      "text/plain": [
       "<Figure size 600x400 with 1 Axes>"
      ]
     },
     "metadata": {},
     "output_type": "display_data"
    }
   ],
   "source": [
    "plt.bar(years, jan_thru_aug)"
   ]
  },
  {
   "cell_type": "code",
   "execution_count": 12,
   "metadata": {
    "scrolled": false
   },
   "outputs": [
    {
     "data": {
      "image/png": "[encoded data removed]",
      "text/plain": [
       "<Figure size 400x600 with 1 Axes>"
      ]
     },
     "metadata": {},
     "output_type": "display_data"
    }
   ],
   "source": [
    "fig, ax=plt.subplots(figsize=(4, 6))\n",
    "\n",
    "fig.text(0, 0.9, \"The pandemic hasn't slowed Jeffco's economy\", weight='bold')\n",
    "fig.text(0, 0.87, \"2021 Retail sales are poised to reach another record high\", size=9)\n",
    "fig.text(0.5, 0.2, \"January - August\", alpha=0.5, rotation=90, weight='bold')\n",
    "fig.text(0.5, .53, \"Sept - Dec\", alpha=0.5, rotation=90, weight='bold')\n",
    "\n",
    "\n",
    "ax.bar(years, annual_retail_sales, color=\"#6d904f\", width=0.75)\n",
    "ax.bar(years, jan_thru_aug, color=\"#e5ae38\", width=0.75)\n",
    "ax.set_yticklabels([])\n",
    "ax.set_xticklabels(['2015','','2017','','2019','','2021'])\n",
    "for side in ['top', 'bottom', 'left', 'right']:\n",
    "    ax.spines[side].set_visible(False)\n",
    "ax.tick_params(left=0, bottom=0)\n",
    "\n",
    "ax.text(-1.8, 9600000000, \"$10\", size=15, c='grey', alpha=0.6)\n",
    "ax.text(-1.8, 19600000000, \"$20\", size=15, c='grey', alpha=0.6)\n",
    "ax.text(-.6, 20300000000, \"Retail Sales (Billion)\", size=10, c='grey', alpha=0.6)\n",
    "ax.axhline(y=10000000000, c='grey', alpha=0.5)\n",
    "ax.axhline(y=20000000000, c='grey', alpha=0.5)\n",
    "ax.text(3, -450000000, \"Source: Colorado Department of Revenue\", size=5, c='grey', alpha=0.8)\n",
    "\n",
    "\n",
    "plt.show()\n"
   ]
  },
  {
   "cell_type": "code",
   "execution_count": null,
   "metadata": {},
   "outputs": [],
   "source": []
  }
 ],
 "metadata": {
  "kernelspec": {
   "display_name": "Python 3",
   "language": "python",
   "name": "python3"
  },
  "language_info": {
   "codemirror_mode": {
    "name": "ipython",
    "version": 3
   },
   "file_extension": ".py",
   "mimetype": "text/x-python",
   "name": "python",
   "nbconvert_exporter": "python",
   "pygments_lexer": "ipython3",
   "version": "3.8.2"
  }
 },
 "nbformat": 4,
 "nbformat_minor": 4
}
