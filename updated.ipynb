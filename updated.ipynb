{
 "cells": [
  {
   "cell_type": "code",
   "execution_count": 1,
   "metadata": {},
   "outputs": [],
   "source": [
    "import pandas as pd\n",
    "import matplotlib.pyplot as plt\n",
    "%matplotlib inline\n",
    "\n",
    "report = pd.read_csv('Retail_Reports_by_County_in_Colorado (1).csv')\n",
    "\n",
    "jeffco = (report[report['county'] == 'Jefferson'].dropna(axis='columns'))"
   ]
  },
  {
   "cell_type": "code",
   "execution_count": 2,
   "metadata": {},
   "outputs": [
    {
     "data": {
      "text/html": [
       "<div>\n",
       "<style scoped>\n",
       "    .dataframe tbody tr th:only-of-type {\n",
       "        vertical-align: middle;\n",
       "    }\n",
       "\n",
       "    .dataframe tbody tr th {\n",
       "        vertical-align: top;\n",
       "    }\n",
       "\n",
       "    .dataframe thead th {\n",
       "        text-align: right;\n",
       "    }\n",
       "</style>\n",
       "<table border=\"1\" class=\"dataframe\">\n",
       "  <thead>\n",
       "    <tr style=\"text-align: right;\">\n",
       "      <th></th>\n",
       "      <th>month</th>\n",
       "      <th>year</th>\n",
       "      <th>county</th>\n",
       "      <th>num_returns</th>\n",
       "      <th>gross_sales</th>\n",
       "      <th>retail_sales</th>\n",
       "      <th>state_net_taxable_sales</th>\n",
       "    </tr>\n",
       "  </thead>\n",
       "  <tbody>\n",
       "    <tr>\n",
       "      <th>502</th>\n",
       "      <td>6</td>\n",
       "      <td>2015</td>\n",
       "      <td>Jefferson</td>\n",
       "      <td>18816</td>\n",
       "      <td>1975147.0</td>\n",
       "      <td>1598627.0</td>\n",
       "      <td>720662.0</td>\n",
       "    </tr>\n",
       "    <tr>\n",
       "      <th>792</th>\n",
       "      <td>3</td>\n",
       "      <td>2015</td>\n",
       "      <td>Jefferson</td>\n",
       "      <td>18197</td>\n",
       "      <td>1860088.0</td>\n",
       "      <td>1538921.0</td>\n",
       "      <td>668075.0</td>\n",
       "    </tr>\n",
       "    <tr>\n",
       "      <th>1422</th>\n",
       "      <td>11</td>\n",
       "      <td>2015</td>\n",
       "      <td>Jefferson</td>\n",
       "      <td>13033</td>\n",
       "      <td>1406345.0</td>\n",
       "      <td>1212720.0</td>\n",
       "      <td>640905.0</td>\n",
       "    </tr>\n",
       "    <tr>\n",
       "      <th>1555</th>\n",
       "      <td>2</td>\n",
       "      <td>2015</td>\n",
       "      <td>Jefferson</td>\n",
       "      <td>12556</td>\n",
       "      <td>1311250.0</td>\n",
       "      <td>1141207.0</td>\n",
       "      <td>541365.0</td>\n",
       "    </tr>\n",
       "    <tr>\n",
       "      <th>1665</th>\n",
       "      <td>5</td>\n",
       "      <td>2015</td>\n",
       "      <td>Jefferson</td>\n",
       "      <td>12787</td>\n",
       "      <td>1554232.0</td>\n",
       "      <td>1326800.0</td>\n",
       "      <td>692135.0</td>\n",
       "    </tr>\n",
       "    <tr>\n",
       "      <th>1712</th>\n",
       "      <td>8</td>\n",
       "      <td>2015</td>\n",
       "      <td>Jefferson</td>\n",
       "      <td>12973</td>\n",
       "      <td>1583496.0</td>\n",
       "      <td>1385842.0</td>\n",
       "      <td>737292.0</td>\n",
       "    </tr>\n",
       "    <tr>\n",
       "      <th>3141</th>\n",
       "      <td>1</td>\n",
       "      <td>2015</td>\n",
       "      <td>Jefferson</td>\n",
       "      <td>12576</td>\n",
       "      <td>1510809.0</td>\n",
       "      <td>1330121.0</td>\n",
       "      <td>599953.0</td>\n",
       "    </tr>\n",
       "    <tr>\n",
       "      <th>3148</th>\n",
       "      <td>4</td>\n",
       "      <td>2015</td>\n",
       "      <td>Jefferson</td>\n",
       "      <td>12666</td>\n",
       "      <td>1500278.0</td>\n",
       "      <td>1292287.0</td>\n",
       "      <td>637436.0</td>\n",
       "    </tr>\n",
       "    <tr>\n",
       "      <th>3254</th>\n",
       "      <td>10</td>\n",
       "      <td>2015</td>\n",
       "      <td>Jefferson</td>\n",
       "      <td>13010</td>\n",
       "      <td>1520146.0</td>\n",
       "      <td>1305967.0</td>\n",
       "      <td>680231.0</td>\n",
       "    </tr>\n",
       "    <tr>\n",
       "      <th>3466</th>\n",
       "      <td>7</td>\n",
       "      <td>2015</td>\n",
       "      <td>Jefferson</td>\n",
       "      <td>12937</td>\n",
       "      <td>1582582.0</td>\n",
       "      <td>1370804.0</td>\n",
       "      <td>706618.0</td>\n",
       "    </tr>\n",
       "    <tr>\n",
       "      <th>3924</th>\n",
       "      <td>9</td>\n",
       "      <td>2015</td>\n",
       "      <td>Jefferson</td>\n",
       "      <td>18854</td>\n",
       "      <td>1872211.0</td>\n",
       "      <td>1521289.0</td>\n",
       "      <td>695649.0</td>\n",
       "    </tr>\n",
       "    <tr>\n",
       "      <th>4546</th>\n",
       "      <td>12</td>\n",
       "      <td>2015</td>\n",
       "      <td>Jefferson</td>\n",
       "      <td>21497</td>\n",
       "      <td>3028551.0</td>\n",
       "      <td>2073991.0</td>\n",
       "      <td>840488.0</td>\n",
       "    </tr>\n",
       "  </tbody>\n",
       "</table>\n",
       "</div>"
      ],
      "text/plain": [
       "      month  year     county  num_returns  gross_sales  retail_sales  \\\n",
       "502       6  2015  Jefferson        18816    1975147.0     1598627.0   \n",
       "792       3  2015  Jefferson        18197    1860088.0     1538921.0   \n",
       "1422     11  2015  Jefferson        13033    1406345.0     1212720.0   \n",
       "1555      2  2015  Jefferson        12556    1311250.0     1141207.0   \n",
       "1665      5  2015  Jefferson        12787    1554232.0     1326800.0   \n",
       "1712      8  2015  Jefferson        12973    1583496.0     1385842.0   \n",
       "3141      1  2015  Jefferson        12576    1510809.0     1330121.0   \n",
       "3148      4  2015  Jefferson        12666    1500278.0     1292287.0   \n",
       "3254     10  2015  Jefferson        13010    1520146.0     1305967.0   \n",
       "3466      7  2015  Jefferson        12937    1582582.0     1370804.0   \n",
       "3924      9  2015  Jefferson        18854    1872211.0     1521289.0   \n",
       "4546     12  2015  Jefferson        21497    3028551.0     2073991.0   \n",
       "\n",
       "      state_net_taxable_sales  \n",
       "502                  720662.0  \n",
       "792                  668075.0  \n",
       "1422                 640905.0  \n",
       "1555                 541365.0  \n",
       "1665                 692135.0  \n",
       "1712                 737292.0  \n",
       "3141                 599953.0  \n",
       "3148                 637436.0  \n",
       "3254                 680231.0  \n",
       "3466                 706618.0  \n",
       "3924                 695649.0  \n",
       "4546                 840488.0  "
      ]
     },
     "execution_count": 2,
     "metadata": {},
     "output_type": "execute_result"
    }
   ],
   "source": [
    "jeffco[jeffco['year'] == 2015]"
   ]
  },
  {
   "cell_type": "code",
   "execution_count": 3,
   "metadata": {
    "scrolled": false
   },
   "outputs": [],
   "source": [
    "jeffco.loc[jeffco['year'] == 2015, 'gross_sales':'state_net_taxable_sales'] = jeffco.loc[jeffco['year'] == 2015, 'gross_sales':'state_net_taxable_sales'] * 1000"
   ]
  },
  {
   "cell_type": "code",
   "execution_count": 4,
   "metadata": {},
   "outputs": [],
   "source": [
    "jeffco_years = jeffco.groupby('year').sum()"
   ]
  },
  {
   "cell_type": "code",
   "execution_count": 5,
   "metadata": {},
   "outputs": [
    {
     "data": {
      "text/plain": [
       "<matplotlib.axes._subplots.AxesSubplot at 0x7f2be6421730>"
      ]
     },
     "execution_count": 5,
     "metadata": {},
     "output_type": "execute_result"
    },
    {
     "data": {
      "image/png": "[encoded data removed]",
      "text/plain": [
       "<Figure size 600x400 with 1 Axes>"
      ]
     },
     "metadata": {},
     "output_type": "display_data"
    }
   ],
   "source": [
    "jeffco_years['retail_sales'].plot.bar()"
   ]
  },
  {
   "cell_type": "code",
   "execution_count": 13,
   "metadata": {},
   "outputs": [],
   "source": [
    "jeffco_first = jeffco[(jeffco['month'] < 4 )].groupby('year').sum()\n",
    "jeffco_second = jeffco[(jeffco['month'] < 7 )].groupby('year').sum()\n",
    "jeffco_third = jeffco[(jeffco['month'] < 10 )].groupby('year').sum()\n",
    "jeffco_fourth = jeffco.groupby('year').sum()"
   ]
  },
  {
   "cell_type": "code",
   "execution_count": 7,
   "metadata": {
    "scrolled": true
   },
   "outputs": [
    {
     "data": {
      "text/html": [
       "<div>\n",
       "<style scoped>\n",
       "    .dataframe tbody tr th:only-of-type {\n",
       "        vertical-align: middle;\n",
       "    }\n",
       "\n",
       "    .dataframe tbody tr th {\n",
       "        vertical-align: top;\n",
       "    }\n",
       "\n",
       "    .dataframe thead th {\n",
       "        text-align: right;\n",
       "    }\n",
       "</style>\n",
       "<table border=\"1\" class=\"dataframe\">\n",
       "  <thead>\n",
       "    <tr style=\"text-align: right;\">\n",
       "      <th></th>\n",
       "      <th>month</th>\n",
       "      <th>num_returns</th>\n",
       "      <th>gross_sales</th>\n",
       "      <th>retail_sales</th>\n",
       "      <th>state_net_taxable_sales</th>\n",
       "    </tr>\n",
       "    <tr>\n",
       "      <th>year</th>\n",
       "      <th></th>\n",
       "      <th></th>\n",
       "      <th></th>\n",
       "      <th></th>\n",
       "      <th></th>\n",
       "    </tr>\n",
       "  </thead>\n",
       "  <tbody>\n",
       "    <tr>\n",
       "      <th>2015</th>\n",
       "      <td>6</td>\n",
       "      <td>43329</td>\n",
       "      <td>4.682147e+09</td>\n",
       "      <td>4.010249e+09</td>\n",
       "      <td>1.809393e+09</td>\n",
       "    </tr>\n",
       "    <tr>\n",
       "      <th>2016</th>\n",
       "      <td>6</td>\n",
       "      <td>46230</td>\n",
       "      <td>4.512290e+09</td>\n",
       "      <td>3.834161e+09</td>\n",
       "      <td>1.850426e+09</td>\n",
       "    </tr>\n",
       "    <tr>\n",
       "      <th>2017</th>\n",
       "      <td>6</td>\n",
       "      <td>49778</td>\n",
       "      <td>4.714410e+09</td>\n",
       "      <td>4.053662e+09</td>\n",
       "      <td>1.953067e+09</td>\n",
       "    </tr>\n",
       "    <tr>\n",
       "      <th>2018</th>\n",
       "      <td>6</td>\n",
       "      <td>53777</td>\n",
       "      <td>4.953006e+09</td>\n",
       "      <td>4.201577e+09</td>\n",
       "      <td>1.988151e+09</td>\n",
       "    </tr>\n",
       "    <tr>\n",
       "      <th>2019</th>\n",
       "      <td>6</td>\n",
       "      <td>71742</td>\n",
       "      <td>5.691091e+09</td>\n",
       "      <td>4.820670e+09</td>\n",
       "      <td>2.074469e+09</td>\n",
       "    </tr>\n",
       "    <tr>\n",
       "      <th>2020</th>\n",
       "      <td>6</td>\n",
       "      <td>107017</td>\n",
       "      <td>6.134616e+09</td>\n",
       "      <td>5.283772e+09</td>\n",
       "      <td>2.286417e+09</td>\n",
       "    </tr>\n",
       "    <tr>\n",
       "      <th>2021</th>\n",
       "      <td>6</td>\n",
       "      <td>136387</td>\n",
       "      <td>6.564422e+09</td>\n",
       "      <td>5.537942e+09</td>\n",
       "      <td>2.415708e+09</td>\n",
       "    </tr>\n",
       "  </tbody>\n",
       "</table>\n",
       "</div>"
      ],
      "text/plain": [
       "      month  num_returns   gross_sales  retail_sales  state_net_taxable_sales\n",
       "year                                                                         \n",
       "2015      6        43329  4.682147e+09  4.010249e+09             1.809393e+09\n",
       "2016      6        46230  4.512290e+09  3.834161e+09             1.850426e+09\n",
       "2017      6        49778  4.714410e+09  4.053662e+09             1.953067e+09\n",
       "2018      6        53777  4.953006e+09  4.201577e+09             1.988151e+09\n",
       "2019      6        71742  5.691091e+09  4.820670e+09             2.074469e+09\n",
       "2020      6       107017  6.134616e+09  5.283772e+09             2.286417e+09\n",
       "2021      6       136387  6.564422e+09  5.537942e+09             2.415708e+09"
      ]
     },
     "execution_count": 7,
     "metadata": {},
     "output_type": "execute_result"
    }
   ],
   "source": [
    "jeffco_first"
   ]
  },
  {
   "cell_type": "code",
   "execution_count": 9,
   "metadata": {},
   "outputs": [
    {
     "data": {
      "image/png": "[encoded data removed]",
      "text/plain": [
       "<Figure size 600x400 with 1 Axes>"
      ]
     },
     "metadata": {},
     "output_type": "display_data"
    }
   ],
   "source": [
    "jeffco_first['retail_sales'].plot.bar()\n",
    "years = [year for year in range(2015, 2022)]"
   ]
  },
  {
   "cell_type": "code",
   "execution_count": null,
   "metadata": {},
   "outputs": [],
   "source": [
    "years"
   ]
  },
  {
   "cell_type": "code",
   "execution_count": 14,
   "metadata": {},
   "outputs": [
    {
     "data": {
      "image/png": "[encoded data removed]",
      "text/plain": [
       "<Figure size 400x600 with 1 Axes>"
      ]
     },
     "metadata": {},
     "output_type": "display_data"
    }
   ],
   "source": [
    "fig, ax=plt.subplots(figsize=(4, 6))\n",
    "\n",
    "fig.text(0, 0.9, \"The pandemic hasn't slowed Jeffco's economy\", weight='bold')\n",
    "fig.text(0, 0.87, \"2021 Retail sales are poised to reach another record high\", size=9)\n",
    "fig.text(0.5, 0.2, \"January - August\", alpha=0.5, rotation=90, weight='bold')\n",
    "fig.text(0.5, .53, \"Sept - Dec\", alpha=0.5, rotation=90, weight='bold')\n",
    "\n",
    "\n",
    "ax.bar(years, jeffco_fourth['retail_sales'], color=\"#FF9912\", width=0.75)\n",
    "ax.bar(years, jeffco_third['retail_sales'], color=\"#C83200\", width=0.75)\n",
    "ax.bar(years, jeffco_second['retail_sales'], color=\"#FFD700\", width=0.75)\n",
    "ax.bar(years, jeffco_first['retail_sales'], color=\"#191970\", width=0.75)\n",
    "ax.set_yticklabels([])\n",
    "ax.set_xticklabels(['2015','','2017','','2019','','2021'])\n",
    "for side in ['top', 'bottom', 'left', 'right']:\n",
    "    ax.spines[side].set_visible(False)\n",
    "ax.tick_params(left=0, bottom=0)\n",
    "\n",
    "plt.show()"
   ]
  },
  {
   "cell_type": "code",
   "execution_count": null,
   "metadata": {},
   "outputs": [],
   "source": []
  }
 ],
 "metadata": {
  "kernelspec": {
   "display_name": "Python 3",
   "language": "python",
   "name": "python3"
  },
  "language_info": {
   "codemirror_mode": {
    "name": "ipython",
    "version": 3
   },
   "file_extension": ".py",
   "mimetype": "text/x-python",
   "name": "python",
   "nbconvert_exporter": "python",
   "pygments_lexer": "ipython3",
   "version": "3.8.2"
  }
 },
 "nbformat": 4,
 "nbformat_minor": 4
}
